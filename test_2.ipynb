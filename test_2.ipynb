{
 "cells": [
  {
   "cell_type": "markdown",
   "metadata": {},
   "source": [
    "# HYPERACITY IN PATIENTS\n",
    "\n",
    "Helicobacter or hyperacidity is a stomach problem initiated by high acidity levels,it is a common problem in both adults and children.\n",
    "##  Causes\n",
    "\n",
    "The following are causes of hyperacidity.\n",
    "* 1)Stress\n",
    "* 2)Poor eating habits eg.eating orange and citrus on empty stomach.\n",
    "* 3)Some alcoholic drinks and energy drinks.\n",
    "* 4)Spicy foods.\n",
    "* 5)Allergy to certain pain killers.\n",
    "\n",
    "###  Symptoms\n",
    "One may experience certain symptoms of hyperacidity.\n",
    "* Excess pain at the stomach area\n",
    "* Nausea and Vomitting\n",
    "* Regurgitating  excess saliva \n",
    "* Blocked gut\n",
    "###  drugs used for treatment\n",
    "* nexium 40 mg 14,s\n",
    "* nexium 20 mg 14,s\n",
    "* Lorabil plus 30,S\n",
    "* Robidorm SR 30,S\n",
    "\n",
    "\n",
    "\n",
    "\n"
   ]
  },
  {
   "cell_type": "code",
   "execution_count": null,
   "metadata": {},
   "outputs": [],
   "source": []
  }
 ],
 "metadata": {
  "kernelspec": {
   "display_name": "Python (learn-env)",
   "language": "python",
   "name": "learn-env"
  },
  "language_info": {
   "codemirror_mode": {
    "name": "ipython",
    "version": 3
   },
   "file_extension": ".py",
   "mimetype": "text/x-python",
   "name": "python",
   "nbconvert_exporter": "python",
   "pygments_lexer": "ipython3",
   "version": "3.11.7"
  }
 },
 "nbformat": 4,
 "nbformat_minor": 4
}
